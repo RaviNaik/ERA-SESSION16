{
 "cells": [
  {
   "cell_type": "markdown",
   "metadata": {},
   "source": [
    "### Import modules"
   ]
  },
  {
   "cell_type": "code",
   "execution_count": 1,
   "metadata": {
    "tags": []
   },
   "outputs": [],
   "source": [
    "import lightning as L\n",
    "from lightning.pytorch.callbacks import ModelSummary, ModelCheckpoint\n",
    "from lightning.pytorch.tuner import Tuner"
   ]
  },
  {
   "cell_type": "code",
   "execution_count": 2,
   "metadata": {
    "tags": []
   },
   "outputs": [],
   "source": [
    "import warnings\n",
    "\n",
    "warnings.filterwarnings(\"ignore\")"
   ]
  },
  {
   "cell_type": "code",
   "execution_count": 3,
   "metadata": {
    "tags": []
   },
   "outputs": [],
   "source": [
    "from model import TransformerModel\n",
    "from dataset import TranslationDataModule\n",
    "from config import get_config\n",
    "\n",
    "conf = get_config()"
   ]
  },
  {
   "cell_type": "markdown",
   "metadata": {},
   "source": [
    "### Import the Datamodule & Initialize"
   ]
  },
  {
   "cell_type": "code",
   "execution_count": 4,
   "metadata": {
    "tags": []
   },
   "outputs": [
    {
     "name": "stdout",
     "output_type": "stream",
     "text": [
      "Max length of source sentence: 150\n",
      "Max length of target sentence: 159\n"
     ]
    }
   ],
   "source": [
    "datamodule = TranslationDataModule(conf)\n",
    "src_seq_len, tgt_seq_len = datamodule.get_seq_lens()\n",
    "datamodule.setup()"
   ]
  },
  {
   "cell_type": "markdown",
   "metadata": {},
   "source": [
    "### Initialize Model & Trainer"
   ]
  },
  {
   "cell_type": "code",
   "execution_count": 5,
   "metadata": {
    "tags": []
   },
   "outputs": [],
   "source": [
    "model = TransformerModel(\n",
    "    src_vocab_size=datamodule.tokenizer_src.get_vocab_size(),\n",
    "    tgt_vocab_size=datamodule.tokenizer_tgt.get_vocab_size(),\n",
    "    src_seq_len=src_seq_len+2,\n",
    "    tgt_seq_len=tgt_seq_len+1,\n",
    "    d_model=conf[\"d_model\"],\n",
    "    tokenizer_src=datamodule.tokenizer_src,\n",
    "    tokenizer_tgt=datamodule.tokenizer_tgt,\n",
    "    learning_rate=conf[\"lr\"],\n",
    "    max_lr=conf[\"lr\"],\n",
    "    epochs=conf[\"num_epochs\"],\n",
    "    steps=len(datamodule.train_dataloader()),\n",
    ")"
   ]
  },
  {
   "cell_type": "code",
   "execution_count": 6,
   "metadata": {
    "tags": []
   },
   "outputs": [],
   "source": [
    "callbacks = [\n",
    "    ModelSummary(max_depth=3),\n",
    "    ModelCheckpoint(\n",
    "        dirpath=\"model_checkpoints\",\n",
    "        filename=\"tr_{epoch}\",\n",
    "        monitor=\"train_loss\",\n",
    "        mode=\"min\",\n",
    "        save_last=True,\n",
    "    ),\n",
    "]"
   ]
  },
  {
   "cell_type": "code",
   "execution_count": 7,
   "metadata": {
    "tags": []
   },
   "outputs": [
    {
     "name": "stderr",
     "output_type": "stream",
     "text": [
      "Using 16bit Automatic Mixed Precision (AMP)\n",
      "Trainer already configured with model summary callbacks: [<class 'lightning.pytorch.callbacks.model_summary.ModelSummary'>]. Skipping setting a default `ModelSummary` callback.\n",
      "GPU available: True (cuda), used: True\n",
      "TPU available: False, using: 0 TPU cores\n",
      "IPU available: False, using: 0 IPUs\n",
      "HPU available: False, using: 0 HPUs\n"
     ]
    }
   ],
   "source": [
    "trainer = L.Trainer(\n",
    "    accelerator=\"gpu\",\n",
    "    devices=[1],\n",
    "    num_nodes=1,\n",
    "    precision=\"16-mixed\",\n",
    "    max_epochs=conf[\"num_epochs\"],\n",
    "    callbacks=callbacks,\n",
    "    check_val_every_n_epoch=20,\n",
    ")"
   ]
  },
  {
   "cell_type": "markdown",
   "metadata": {},
   "source": [
    "### Find the best learning rate"
   ]
  },
  {
   "cell_type": "code",
   "execution_count": 8,
   "metadata": {
    "tags": []
   },
   "outputs": [
    {
     "name": "stderr",
     "output_type": "stream",
     "text": [
      "You are using a CUDA device ('NVIDIA RTX A6000') that has Tensor Cores. To properly utilize them, you should set `torch.set_float32_matmul_precision('medium' | 'high')` which will trade-off precision for performance. For more details, read https://pytorch.org/docs/stable/generated/torch.set_float32_matmul_precision.html#torch.set_float32_matmul_precision\n",
      "LOCAL_RANK: 0 - CUDA_VISIBLE_DEVICES: [0,1]\n"
     ]
    },
    {
     "data": {
      "application/vnd.jupyter.widget-view+json": {
       "model_id": "a2780c958a564e3d80b4f32dff4a217d",
       "version_major": 2,
       "version_minor": 0
      },
      "text/plain": [
       "Finding best initial lr:   0%|          | 0/100 [00:00<?, ?it/s]"
      ]
     },
     "metadata": {},
     "output_type": "display_data"
    },
    {
     "name": "stderr",
     "output_type": "stream",
     "text": [
      "`Trainer.fit` stopped: `max_steps=100` reached.\n",
      "Learning rate set to 0.001584893192461114\n",
      "Restoring states from the checkpoint path at /home/ravi.naik/learning/era/s16/.lr_find_0fdf20ee-f45c-496b-90b0-10a3b74dd91c.ckpt\n",
      "Restored all states from the checkpoint at /home/ravi.naik/learning/era/s16/.lr_find_0fdf20ee-f45c-496b-90b0-10a3b74dd91c.ckpt\n"
     ]
    },
    {
     "data": {
      "image/png": "[encoded data removed]",
      "text/plain": [
       "<Figure size 640x480 with 1 Axes>"
      ]
     },
     "metadata": {},
     "output_type": "display_data"
    }
   ],
   "source": [
    "tuner = Tuner(trainer)\n",
    "\n",
    "lr_finder = tuner.lr_find(model=model, datamodule=datamodule)\n",
    "maxlr = lr_finder.suggestion()\n",
    "fig = lr_finder.plot(suggest=True)"
   ]
  },
  {
   "cell_type": "markdown",
   "metadata": {},
   "source": [
    "### Updated the optimum LR & Begin training"
   ]
  },
  {
   "cell_type": "code",
   "execution_count": null,
   "metadata": {
    "tags": []
   },
   "outputs": [
    {
     "name": "stderr",
     "output_type": "stream",
     "text": [
      "LOCAL_RANK: 0 - CUDA_VISIBLE_DEVICES: [0,1]\n",
      "\n",
      "   | Name                                    | Type               | Params\n",
      "--------------------------------------------------------------------------------\n",
      "0  | transformer                             | Transformer        | 68.1 M\n",
      "1  | transformer.encoder                     | Encoder            | 9.4 M \n",
      "2  | transformer.encoder.layers              | ModuleList         | 9.4 M \n",
      "3  | transformer.encoder.norm                | LayerNormalization | 2     \n",
      "4  | transformer.decoder                     | Decoder            | 12.6 M\n",
      "5  | transformer.decoder.layers              | ModuleList         | 12.6 M\n",
      "6  | transformer.decoder.norm                | LayerNormalization | 2     \n",
      "7  | transformer.src_embed                   | InputEmbeddings    | 15.4 M\n",
      "8  | transformer.src_embed.embedding         | Embedding          | 15.4 M\n",
      "9  | transformer.tgt_embed                   | InputEmbeddings    | 15.4 M\n",
      "10 | transformer.tgt_embed.embedding         | Embedding          | 15.4 M\n",
      "11 | transformer.src_pos                     | PositionalEncoding | 0     \n",
      "12 | transformer.src_pos.dropout             | Dropout            | 0     \n",
      "13 | transformer.tgt_pos                     | PositionalEncoding | 0     \n",
      "14 | transformer.tgt_pos.dropout             | Dropout            | 0     \n",
      "15 | transformer.projection_layer            | ProjectionLayer    | 15.4 M\n",
      "16 | transformer.projection_layer.projection | Linear             | 15.4 M\n",
      "17 | loss_fn                                 | CrossEntropyLoss   | 0     \n",
      "18 | cer_metric                              | CharErrorRate      | 0     \n",
      "19 | wer_metric                              | WordErrorRate      | 0     \n",
      "20 | bleu_metric                             | BLEUScore          | 0     \n",
      "--------------------------------------------------------------------------------\n",
      "68.1 M    Trainable params\n",
      "0         Non-trainable params\n",
      "68.1 M    Total params\n",
      "272.582   Total estimated model params size (MB)\n"
     ]
    },
    {
     "data": {
      "application/vnd.jupyter.widget-view+json": {
       "model_id": "",
       "version_major": 2,
       "version_minor": 0
      },
      "text/plain": [
       "Sanity Checking: 0it [00:00, ?it/s]"
      ]
     },
     "metadata": {},
     "output_type": "display_data"
    },
    {
     "data": {
      "application/vnd.jupyter.widget-view+json": {
       "model_id": "37189a8ad5da4ec59839b8ef7523bf2f",
       "version_major": 2,
       "version_minor": 0
      },
      "text/plain": [
       "Training: 0it [00:00, ?it/s]"
      ]
     },
     "metadata": {},
     "output_type": "display_data"
    },
    {
     "data": {
      "application/vnd.jupyter.widget-view+json": {
       "model_id": "4a5ddc6429bf4cb7a18fe76b5ff68ad4",
       "version_major": 2,
       "version_minor": 0
      },
      "text/plain": [
       "Validation: 0it [00:00, ?it/s]"
      ]
     },
     "metadata": {},
     "output_type": "display_data"
    }
   ],
   "source": [
    "model.learning_rate = maxlr\n",
    "model.maxlr = maxlr\n",
    "\n",
    "trainer.fit(model=model, datamodule=datamodule)"
   ]
  },
  {
   "cell_type": "code",
   "execution_count": null,
   "metadata": {},
   "outputs": [],
   "source": []
  }
 ],
 "metadata": {
  "kernelspec": {
   "display_name": "Python 3 (ipykernel)",
   "language": "python",
   "name": "python3"
  },
  "language_info": {
   "codemirror_mode": {
    "name": "ipython",
    "version": 3
   },
   "file_extension": ".py",
   "mimetype": "text/x-python",
   "name": "python",
   "nbconvert_exporter": "python",
   "pygments_lexer": "ipython3",
   "version": "3.10.12"
  }
 },
 "nbformat": 4,
 "nbformat_minor": 4
}
